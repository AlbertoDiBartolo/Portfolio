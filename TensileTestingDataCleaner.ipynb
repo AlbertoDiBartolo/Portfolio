{
 "cells": [
  {
   "cell_type": "code",
   "execution_count": null,
   "metadata": {},
   "outputs": [],
   "source": [
    "import pandas as pd\n",
    "import numpy as np"
   ]
  },
  {
   "cell_type": "markdown",
   "metadata": {},
   "source": [
    "# Create df with header"
   ]
  },
  {
   "cell_type": "code",
   "execution_count": null,
   "metadata": {},
   "outputs": [],
   "source": [
    "df = pd.read_csv('results.csv', encoding = \"ISO-8859-1\", names = ['info', 'dL (mm)', 'F (kN)',\n",
    "                    'specimen', 'strain (%)', 'stress (MPa)'])"
   ]
  },
  {
   "cell_type": "markdown",
   "metadata": {},
   "source": [
    "# Remove NaN (change to empty)"
   ]
  },
  {
   "cell_type": "code",
   "execution_count": null,
   "metadata": {},
   "outputs": [],
   "source": [
    "df = df.fillna('')"
   ]
  },
  {
   "cell_type": "markdown",
   "metadata": {},
   "source": [
    "# Store thickness values for each specimen"
   ]
  },
  {
   "cell_type": "code",
   "execution_count": null,
   "metadata": {},
   "outputs": [],
   "source": [
    "thicknesses = [float(line.replace('    Spessore:         ', '').replace(' mm', ''))\n",
    "                for line in df['info'] if 'Spessore' in line]"
   ]
  },
  {
   "cell_type": "markdown",
   "metadata": {},
   "source": [
    "# Drop all rows that do not contain test data"
   ]
  },
  {
   "cell_type": "code",
   "execution_count": null,
   "metadata": {},
   "outputs": [],
   "source": [
    "df = df[df['dL (mm)'] != '']"
   ]
  },
  {
   "cell_type": "markdown",
   "metadata": {},
   "source": [
    "# Populate specimen col"
   ]
  },
  {
   "cell_type": "code",
   "execution_count": null,
   "metadata": {},
   "outputs": [],
   "source": [
    "specimens = []\n",
    "thick_col = []\n",
    "counter = 0\n",
    "\n",
    "for line in df['info']:\n",
    "    if line == '1':\n",
    "        counter += 1\n",
    "    specimens.append(counter)\n",
    "    thick_col.append(thicknesses[counter - 1])\n",
    "\n",
    "df['specimen'] = specimens"
   ]
  },
  {
   "cell_type": "markdown",
   "metadata": {},
   "source": [
    "# Populate strain col"
   ]
  },
  {
   "cell_type": "code",
   "execution_count": null,
   "metadata": {},
   "outputs": [],
   "source": [
    "length_0 = 30 # initial length in mm\n",
    "\n",
    "df['strain (%)'] = df['dL (mm)'] / length_0 * 100"
   ]
  },
  {
   "cell_type": "markdown",
   "metadata": {},
   "source": [
    "# Populate stress col"
   ]
  },
  {
   "cell_type": "code",
   "execution_count": null,
   "metadata": {},
   "outputs": [],
   "source": [
    "width = 10 # width in mm\n",
    "    \n",
    "df['stress (MPa)'] = df['F (kN)'] * 1000 / width / thick_col\n",
    "\n",
    "df = df.reset_index(drop=True)"
   ]
  },
  {
   "cell_type": "markdown",
   "metadata": {},
   "source": [
    "# Tensile Modulus (ISO 527-1,2)"
   ]
  },
  {
   "cell_type": "code",
   "execution_count": null,
   "metadata": {},
   "outputs": [],
   "source": [
    "# for tensile modulus consider ISO 527, i.e., calculate slope for strain range [0.05% 0.25%]\n",
    "\n",
    "df_mod_calc = df[(df['strain (%)'] <= 0.25) & (df['strain (%)'] >= 0.05)]\n",
    "\n",
    "tensile_mod = []\n",
    "\n",
    "for i in range(len(thicknesses)):\n",
    "    xy = df_mod_calc[df_mod_calc['specimen'] == i + 1]\n",
    "    x = xy['strain (%)'].tolist()\n",
    "    y = xy['stress (MPa)'].tolist()\n",
    "    slope, intercept = np.polyfit(x, y, 1)\n",
    "    print(slope)\n",
    "    tensile_mod.append(slope*100)\n",
    "    print(tensile_mod)"
   ]
  }
 ],
 "metadata": {
  "kernelspec": {
   "display_name": "Python 3.9.7 64-bit",
   "language": "python",
   "name": "python3"
  },
  "language_info": {
   "codemirror_mode": {
    "name": "ipython",
    "version": 3
   },
   "file_extension": ".py",
   "mimetype": "text/x-python",
   "name": "python",
   "nbconvert_exporter": "python",
   "pygments_lexer": "ipython3",
   "version": "3.9.7"
  },
  "orig_nbformat": 4,
  "vscode": {
   "interpreter": {
    "hash": "618bbadb9914128447fd922d1e72f950848015c2c5a2940f9918db08be8e0dec"
   }
  }
 },
 "nbformat": 4,
 "nbformat_minor": 2
}
